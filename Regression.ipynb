{
  "nbformat": 4,
  "nbformat_minor": 0,
  "metadata": {
    "colab": {
      "provenance": [],
      "authorship_tag": "ABX9TyN/+TaeeuGlerdtcJp5Tk4L",
      "include_colab_link": true
    },
    "kernelspec": {
      "name": "python3",
      "display_name": "Python 3"
    },
    "language_info": {
      "name": "python"
    }
  },
  "cells": [
    {
      "cell_type": "markdown",
      "metadata": {
        "id": "view-in-github",
        "colab_type": "text"
      },
      "source": [
        "<a href=\"https://colab.research.google.com/github/Jin4041/Back_Learning/blob/main/Regression.ipynb\" target=\"_parent\"><img src=\"https://colab.research.google.com/assets/colab-badge.svg\" alt=\"Open In Colab\"/></a>"
      ]
    },
    {
      "cell_type": "code",
      "execution_count": null,
      "metadata": {
        "colab": {
          "base_uri": "https://localhost:8080/"
        },
        "id": "l2DZ8-sAFL46",
        "outputId": "9f87311a-3a49-4518-b14a-a6d3998e2693"
      },
      "outputs": [
        {
          "output_type": "stream",
          "name": "stdout",
          "text": [
            "Downloading data from https://storage.googleapis.com/tensorflow/tf-keras-datasets/boston_housing.npz\n",
            "57026/57026 [==============================] - 0s 0us/step\n"
          ]
        }
      ],
      "source": [
        "from tensorflow.keras.datasets import boston_housing\n",
        "\n",
        "(train_data,train_targets),(test_data,test_targets)=(boston_housing.load_data())"
      ]
    },
    {
      "cell_type": "code",
      "source": [
        "mean=train_data.mean(axis=0)\n",
        "train_data-=mean\n",
        "std=train_data.std(axis=0)\n",
        "train_data/=std\n",
        "test_data-=mean\n",
        "test_data/=std"
      ],
      "metadata": {
        "id": "hJ6CJVxFFvX2"
      },
      "execution_count": null,
      "outputs": []
    },
    {
      "cell_type": "code",
      "source": [
        "from tensorflow import keras\n",
        "from tensorflow.keras import layers\n",
        "def build_model():\n",
        "  model=keras.Sequential([\n",
        "      layers.Dense(64,activation=\"relu\"),\n",
        "      layers.Dense(64,activation=\"relu\"),\n",
        "      layers.Dense(1)\n",
        "  ])\n",
        "  model.compile(optimizer=\"rmsprop\", loss=\"mse\",metrics=[\"mae\"])\n",
        "  return model"
      ],
      "metadata": {
        "id": "zoNShAjuGWQ5"
      },
      "execution_count": null,
      "outputs": []
    },
    {
      "cell_type": "code",
      "source": [
        "import numpy as np\n",
        "k=3\n",
        "num_val_samples=len(train_data)//k\n",
        "num_epochs=100\n",
        "all_scores=[]\n",
        "\n",
        "for i in range(k):\n",
        "  print('processing fold #',i)\n",
        "  val_data=train_data[i*num_val_samples: (i+1)*num_val_samples]\n",
        "  val_targets=train_targets[i*num_val_samples: (i+1)*num_val_samples]\n",
        "  partial_train_data=np.concatenate([train_data[:i*num_val_samples],\n",
        "                                   train_data[(i+1)*num_val_samples:]],\n",
        "                                  axis=0)\n",
        "  partial_train_targets=np.concatenate([train_targets[:i*num_val_samples],\n",
        "                                   train_targets[(i+1)*num_val_samples:]],\n",
        "                                  axis=0)\n",
        "model=build_model()\n",
        "model.fit(partial_train_data, partial_train_targets,\n",
        "          epochs=num_epochs, batch_size=1,verbose=0)\n",
        "val_mse,val_mae=model.evaluate(val_data,val_targets,verbose=0)\n",
        "all_scores.append(val_mae)"
      ],
      "metadata": {
        "colab": {
          "base_uri": "https://localhost:8080/"
        },
        "id": "XJmIfi7tGwhU",
        "outputId": "5415a94f-f081-46cb-f420-b49f7a2aa777"
      },
      "execution_count": null,
      "outputs": [
        {
          "output_type": "stream",
          "name": "stdout",
          "text": [
            "processing fold # 0\n",
            "processing fold # 1\n",
            "processing fold # 2\n"
          ]
        }
      ]
    },
    {
      "cell_type": "code",
      "source": [
        "num_epochs=500\n",
        "all_mae_histories=[]\n",
        "for i in range(k):\n",
        "  print(f\"#{i}번째 폴드 처리중\")\n",
        "  val_data=train_data[i*num_val_samples: (i+1*num_val_samples)]\n",
        "  val_targets=train_targets[i*num_val_samples: (i+1)*num_val_samples]\n",
        "  partial_train_data=np.concatenate([\n",
        "      train_data[:i*num_val_samples],\n",
        "      train_data[(i+1)*num_val_samples:]],\n",
        "      axis=0)\n",
        "  partial_train_targets=np.concatenate(\n",
        "      [train_targets[:i*num_val_samples],\n",
        "       train_targets[(i+1)*num_val_samples:]],\n",
        "      axis=0)\n",
        "model=build_model()\n",
        "history=model.fit(partial_train_data, partial_train_targets,\n",
        "          epochs=num_epochs, batch_size=16,verbose=0)\n",
        "mae_history=history.history['val_mae']\n",
        "all_mae_histories.append(mae_history)"
      ],
      "metadata": {
        "colab": {
          "base_uri": "https://localhost:8080/",
          "height": 257
        },
        "id": "Ci-h_Y2JOXuY",
        "outputId": "6e2e44ff-6277-44c7-f9a6-fdabe500dd15"
      },
      "execution_count": null,
      "outputs": [
        {
          "output_type": "stream",
          "name": "stdout",
          "text": [
            "#0번째 폴드 처리중\n",
            "#1번째 폴드 처리중\n",
            "#2번째 폴드 처리중\n"
          ]
        },
        {
          "output_type": "error",
          "ename": "KeyError",
          "evalue": "'val_mae'",
          "traceback": [
            "\u001b[0;31m---------------------------------------------------------------------------\u001b[0m",
            "\u001b[0;31mKeyError\u001b[0m                                  Traceback (most recent call last)",
            "\u001b[0;32m<ipython-input-10-58d1cc37eb38>\u001b[0m in \u001b[0;36m<cell line: 16>\u001b[0;34m()\u001b[0m\n\u001b[1;32m     14\u001b[0m history=model.fit(partial_train_data, partial_train_targets,\n\u001b[1;32m     15\u001b[0m           epochs=num_epochs, batch_size=16,verbose=0)\n\u001b[0;32m---> 16\u001b[0;31m \u001b[0mmae_history\u001b[0m\u001b[0;34m=\u001b[0m\u001b[0mhistory\u001b[0m\u001b[0;34m.\u001b[0m\u001b[0mhistory\u001b[0m\u001b[0;34m[\u001b[0m\u001b[0;34m'val_mae'\u001b[0m\u001b[0;34m]\u001b[0m\u001b[0;34m\u001b[0m\u001b[0;34m\u001b[0m\u001b[0m\n\u001b[0m\u001b[1;32m     17\u001b[0m \u001b[0mall_mae_histories\u001b[0m\u001b[0;34m.\u001b[0m\u001b[0mappend\u001b[0m\u001b[0;34m(\u001b[0m\u001b[0mmae_history\u001b[0m\u001b[0;34m)\u001b[0m\u001b[0;34m\u001b[0m\u001b[0;34m\u001b[0m\u001b[0m\n",
            "\u001b[0;31mKeyError\u001b[0m: 'val_mae'"
          ]
        }
      ]
    },
    {
      "cell_type": "code",
      "source": [
        "average_mae_history=[\n",
        "    np.mean([x[i] for x in all_mae_histories]) for i in range(num_epochs)]"
      ],
      "metadata": {
        "colab": {
          "base_uri": "https://localhost:8080/"
        },
        "id": "d0OHyUQp2zEx",
        "outputId": "ece9e444-f2c6-40a4-f3ed-e0454273706d"
      },
      "execution_count": null,
      "outputs": [
        {
          "output_type": "stream",
          "name": "stderr",
          "text": [
            "/usr/local/lib/python3.10/dist-packages/numpy/core/fromnumeric.py:3504: RuntimeWarning: Mean of empty slice.\n",
            "  return _methods._mean(a, axis=axis, dtype=dtype,\n",
            "/usr/local/lib/python3.10/dist-packages/numpy/core/_methods.py:129: RuntimeWarning: invalid value encountered in scalar divide\n",
            "  ret = ret.dtype.type(ret / rcount)\n"
          ]
        }
      ]
    },
    {
      "cell_type": "code",
      "source": [
        "import matplotlib.pyplot as plt\n",
        "plt.plot(range(1,len(average_mae_history)+1),average_mae_history)\n",
        "plt.xlabel(\"Epochs\")\n",
        "plt.ylabel(\"Validation MAE\")\n",
        "plt.show()"
      ],
      "metadata": {
        "colab": {
          "base_uri": "https://localhost:8080/",
          "height": 449
        },
        "id": "EBFLfgXB3JBz",
        "outputId": "6b609ae2-1d15-45ca-d700-ded90eb14f8a"
      },
      "execution_count": null,
      "outputs": [
        {
          "output_type": "display_data",
          "data": {
            "text/plain": [
              "<Figure size 640x480 with 1 Axes>"
            ],
            "image/png": "[encoded data removed]"
          },
          "metadata": {}
        }
      ]
    },
    {
      "cell_type": "code",
      "source": [
        "truncated_mae_history=average_mae_history[10:]\n",
        "plt.plot(range(1,len(truncated_mae_history)+1),truncated_mae_history)\n",
        "plt.xlabel(\"Epochs\")\n",
        "plt.ylabel(\"Validation MAE\")\n",
        "plt.show()"
      ],
      "metadata": {
        "colab": {
          "base_uri": "https://localhost:8080/",
          "height": 449
        },
        "id": "ifQJuiAn5qr7",
        "outputId": "552ccbd4-f832-4178-f656-3fedce118415"
      },
      "execution_count": null,
      "outputs": [
        {
          "output_type": "display_data",
          "data": {
            "text/plain": [
              "<Figure size 640x480 with 1 Axes>"
            ],
            "image/png": "[encoded data removed]"
          },
          "metadata": {}
        }
      ]
    },
    {
      "cell_type": "code",
      "source": [
        "model=build_model()\n",
        "model.fit(train_data,train_targets,\n",
        "          epochs=130,batch_size=16,verbose=0)\n",
        "test_mse_score,test_mae_score=model.evaluate(test_data,test_targets)\n",
        "test_mae_score"
      ],
      "metadata": {
        "colab": {
          "base_uri": "https://localhost:8080/"
        },
        "id": "MkgMQqS85-At",
        "outputId": "6ed9c35c-093e-4599-cbdd-c6f85d39f0ea"
      },
      "execution_count": null,
      "outputs": [
        {
          "output_type": "stream",
          "name": "stdout",
          "text": [
            "4/4 [==============================] - 0s 4ms/step - loss: 15.2592 - mae: 2.5621\n"
          ]
        },
        {
          "output_type": "execute_result",
          "data": {
            "text/plain": [
              "2.562105655670166"
            ]
          },
          "metadata": {},
          "execution_count": 16
        }
      ]
    }
  ]
}